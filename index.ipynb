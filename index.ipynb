{
 "cells": [
  {
   "cell_type": "markdown",
   "metadata": {},
   "source": [
    "# Scraping Concerts - Lab\n",
    "\n",
    "## Introduction\n",
    "\n",
    "Now that you've seen how to scrape a simple website, it's time to again practice those skills on a full-fledged site!\n",
    "In this lab, you'll practice your scraping skills on a music website: https://www.residentadvisor.net.\n",
    "## Objectives\n",
    "\n",
    "You will be able to:\n",
    "* Create a full scraping pipeline that involves traversing over many pages of a website, dealing with errors and storing data"
   ]
  },
  {
   "cell_type": "markdown",
   "metadata": {},
   "source": [
    "## View the Website\n",
    "\n",
    "For this lab, you'll be scraping the https://www.residentadvisor.net website. Start by navigating to the events page [here](https://www.residentadvisor.net/events) in your browser.\n",
    "\n",
    "<img src=\"images/ra.png\">"
   ]
  },
  {
   "cell_type": "code",
   "execution_count": null,
   "metadata": {},
   "outputs": [],
   "source": [
    "# Load the https://www.residentadvisor.net/events page in your browser."
   ]
  },
  {
   "cell_type": "markdown",
   "metadata": {},
   "source": [
    "## Open the Inspect Element Feature\n",
    "\n",
    "Next, open the inspect element feature from your web browser in order to preview the underlying HTML associated with the page."
   ]
  },
  {
   "cell_type": "code",
   "execution_count": 2,
   "metadata": {},
   "outputs": [],
   "source": [
    "# Open the inspect element feature in your browser\n",
    "import pandas as pd\n",
    "import requests\n",
    "from bs4 import BeautifulSoup"
   ]
  },
  {
   "cell_type": "markdown",
   "metadata": {},
   "source": [
    "## Write a Function to Scrape all of the Events on the Given Page Events Page\n",
    "\n",
    "The function should return a Pandas DataFrame with columns for the Event_Name, Venue, Event_Date and Number_of_Attendees."
   ]
  },
  {
   "cell_type": "code",
   "execution_count": 136,
   "metadata": {},
   "outputs": [],
   "source": [
    "page = requests.get('https://www.residentadvisor.net/events/us/newyork/')\n",
    "soup = BeautifulSoup(page.content, 'html.parser')"
   ]
  },
  {
   "cell_type": "code",
   "execution_count": 137,
   "metadata": {},
   "outputs": [],
   "source": [
    "event_listings = soup.find('ul', id='items')\n",
    "event_listings1 = event_listings.find('div', class_='bbox')\n",
    "event_listings.find('a').text\n",
    "ev = event_listings"
   ]
  },
  {
   "cell_type": "code",
   "execution_count": 138,
   "metadata": {},
   "outputs": [
    {
     "data": {
      "text/plain": [
       "['Disorient presents: Country Club X: Astrodynamica',\n",
       " \"Virtual Thursday: A Panel with Candidates of New York's DSA-Slate\",\n",
       " 'Virtual Thursday: Planetarium with Davis Galvin and Father of Two',\n",
       " 'NYC MDW Kickoff Hip Hop vs Reggae® Yacht Party 2020',\n",
       " 'Disorient presents: Country Club X: Astrodynamica',\n",
       " 'Virtual Friday: Ash Lauryn and Musclecars',\n",
       " 'Eggs and Toast',\n",
       " '[CANCELED] 𝐄 𝐗 𝐓 𝐄 𝐍 𝐃 𝐄 𝐃 ⇆ Speedy J // Shlømo // Tapefeed',\n",
       " '[CANCELLED] The Bunker with Ben UFO x Joy Orbison, Forest Drive West',\n",
       " '[CANCELLED] Jon Hopkins (DJ Set), Gee Dee, Timo Lee, Chittom and Eric From America',\n",
       " 'Disorient presents: Country Club X: Astrodynamica',\n",
       " \"Tony Humphries' Le Bain Residency\",\n",
       " 'Multiple Man, Figure Section',\n",
       " 'Virtual Saturday: Breakwave and Lee Gamble',\n",
       " 'NYC Memorial Day Sunday Yacht Party Cruise 2020',\n",
       " 'Disorient presents: Country Club X: Astrodynamica',\n",
       " 'Virtual Sunday: Mister Sunday Season Opener']"
      ]
     },
     "execution_count": 138,
     "metadata": {},
     "output_type": "execute_result"
    }
   ],
   "source": [
    "def event_names(ev):\n",
    "    names = []\n",
    "    for x in ev.find_all('div', class_='bbox'):\n",
    "        names.append(x.find('a').text)\n",
    "    return names\n",
    "event_names(ev)"
   ]
  },
  {
   "cell_type": "code",
   "execution_count": 139,
   "metadata": {},
   "outputs": [
    {
     "data": {
      "text/plain": [
       "[None,\n",
       " 'Nowadays',\n",
       " 'Nowadays',\n",
       " 'Skyport Marina',\n",
       " None,\n",
       " 'Nowadays',\n",
       " None,\n",
       " '23 Meadow',\n",
       " 'Market Hotel',\n",
       " 'Good Room',\n",
       " None,\n",
       " 'Le Bain',\n",
       " 'Saint Vitus',\n",
       " 'Nowadays',\n",
       " 'Skyport Marina',\n",
       " None,\n",
       " 'Nowadays']"
      ]
     },
     "execution_count": 139,
     "metadata": {},
     "output_type": "execute_result"
    }
   ],
   "source": [
    "def event_venues(ev):\n",
    "    venues = []\n",
    "    for x in ev.find_all('div', class_='bbox'):\n",
    "        hold = x.find('span').find('a')\n",
    "        if hold != None:\n",
    "            hold = hold.text\n",
    "        venues.append(hold)\n",
    "    return venues\n",
    "event_venues(ev)"
   ]
  },
  {
   "cell_type": "code",
   "execution_count": 144,
   "metadata": {},
   "outputs": [
    {
     "data": {
      "text/plain": [
       "['2020-05-21T00:00',\n",
       " '2020-05-21T00:00',\n",
       " '2020-05-21T00:00',\n",
       " '2020-05-22T00:00',\n",
       " '2020-05-22T00:00',\n",
       " '2020-05-22T00:00',\n",
       " '2020-05-22T00:00',\n",
       " '2020-05-22T00:00',\n",
       " '2020-05-22T00:00',\n",
       " '2020-05-22T00:00',\n",
       " '2020-05-23T00:00',\n",
       " '2020-05-23T00:00',\n",
       " '2020-05-23T00:00',\n",
       " '2020-05-23T00:00',\n",
       " '2020-05-24T00:00',\n",
       " '2020-05-24T00:00',\n",
       " '2020-05-24T00:00']"
      ]
     },
     "execution_count": 144,
     "metadata": {},
     "output_type": "execute_result"
    }
   ],
   "source": [
    "def event_dates(ev):\n",
    "    import re\n",
    "    regex = re.compile('event-item (.*)')\n",
    "    dates = []\n",
    "    for x in ev.find_all('article', class_=regex):\n",
    "        dates.append(x.find('time').text)\n",
    "    return dates\n",
    "event_dates(ev)"
   ]
  },
  {
   "cell_type": "code",
   "execution_count": 212,
   "metadata": {},
   "outputs": [
    {
     "data": {
      "text/plain": [
       "[4, 2, 2, 1, 4, 4, 2, 311, 112, 52, 4, 2, 2, 2, 3, 4, 1]"
      ]
     },
     "execution_count": 212,
     "metadata": {},
     "output_type": "execute_result"
    }
   ],
   "source": [
    "def event_attendees(ev):\n",
    "    attendees = []\n",
    "    for x in ev.find_all('p', class_='attending'):\n",
    "        attendees.append(int(x.find('span').text))\n",
    "    return attendees\n",
    "event_attendees(ev)"
   ]
  },
  {
   "cell_type": "code",
   "execution_count": 193,
   "metadata": {},
   "outputs": [],
   "source": [
    "def scrape_events(events_page_url):\n",
    "    url = events_page_url\n",
    "    page = requests.get(url)\n",
    "    soup = BeautifulSoup(page.content, 'html.parser')\n",
    "    ev = soup.find('ul', id='items')\n",
    "    names = event_names(ev)\n",
    "    venues = event_venues(ev)\n",
    "    dates = event_dates(ev)\n",
    "    attendees= event_attendees(ev)\n",
    "    df = pd.DataFrame([names, venues, dates, attendees]).T\n",
    "    df.columns = [\"Event_Name\", \"Venue\", \"Event_Date\", \"Number_of_Attendees\"]\n",
    "    return df"
   ]
  },
  {
   "cell_type": "code",
   "execution_count": 194,
   "metadata": {
    "scrolled": true
   },
   "outputs": [
    {
     "data": {
      "text/html": [
       "<div>\n",
       "<style scoped>\n",
       "    .dataframe tbody tr th:only-of-type {\n",
       "        vertical-align: middle;\n",
       "    }\n",
       "\n",
       "    .dataframe tbody tr th {\n",
       "        vertical-align: top;\n",
       "    }\n",
       "\n",
       "    .dataframe thead th {\n",
       "        text-align: right;\n",
       "    }\n",
       "</style>\n",
       "<table border=\"1\" class=\"dataframe\">\n",
       "  <thead>\n",
       "    <tr style=\"text-align: right;\">\n",
       "      <th></th>\n",
       "      <th>Event_Name</th>\n",
       "      <th>Venue</th>\n",
       "      <th>Event_Date</th>\n",
       "      <th>Number_of_Attendees</th>\n",
       "    </tr>\n",
       "  </thead>\n",
       "  <tbody>\n",
       "    <tr>\n",
       "      <td>0</td>\n",
       "      <td>Disorient presents: Country Club X: Astrodynamica</td>\n",
       "      <td>None</td>\n",
       "      <td>2020-05-21T00:00</td>\n",
       "      <td>4</td>\n",
       "    </tr>\n",
       "    <tr>\n",
       "      <td>1</td>\n",
       "      <td>Virtual Thursday: A Panel with Candidates of N...</td>\n",
       "      <td>Nowadays</td>\n",
       "      <td>2020-05-21T00:00</td>\n",
       "      <td>2</td>\n",
       "    </tr>\n",
       "    <tr>\n",
       "      <td>2</td>\n",
       "      <td>Virtual Thursday: Planetarium with Davis Galvi...</td>\n",
       "      <td>Nowadays</td>\n",
       "      <td>2020-05-21T00:00</td>\n",
       "      <td>2</td>\n",
       "    </tr>\n",
       "    <tr>\n",
       "      <td>3</td>\n",
       "      <td>NYC MDW Kickoff Hip Hop vs Reggae® Yacht Party...</td>\n",
       "      <td>Skyport Marina</td>\n",
       "      <td>2020-05-22T00:00</td>\n",
       "      <td>1</td>\n",
       "    </tr>\n",
       "    <tr>\n",
       "      <td>4</td>\n",
       "      <td>Disorient presents: Country Club X: Astrodynamica</td>\n",
       "      <td>None</td>\n",
       "      <td>2020-05-22T00:00</td>\n",
       "      <td>4</td>\n",
       "    </tr>\n",
       "    <tr>\n",
       "      <td>5</td>\n",
       "      <td>Virtual Friday: Ash Lauryn and Musclecars</td>\n",
       "      <td>Nowadays</td>\n",
       "      <td>2020-05-22T00:00</td>\n",
       "      <td>4</td>\n",
       "    </tr>\n",
       "    <tr>\n",
       "      <td>6</td>\n",
       "      <td>Eggs and Toast</td>\n",
       "      <td>None</td>\n",
       "      <td>2020-05-22T00:00</td>\n",
       "      <td>2</td>\n",
       "    </tr>\n",
       "    <tr>\n",
       "      <td>7</td>\n",
       "      <td>[CANCELED] 𝐄 𝐗 𝐓 𝐄 𝐍 𝐃 𝐄 𝐃 ⇆ Speedy J // Shløm...</td>\n",
       "      <td>23 Meadow</td>\n",
       "      <td>2020-05-22T00:00</td>\n",
       "      <td>311</td>\n",
       "    </tr>\n",
       "    <tr>\n",
       "      <td>8</td>\n",
       "      <td>[CANCELLED] The Bunker with Ben UFO x Joy Orbi...</td>\n",
       "      <td>Market Hotel</td>\n",
       "      <td>2020-05-22T00:00</td>\n",
       "      <td>112</td>\n",
       "    </tr>\n",
       "    <tr>\n",
       "      <td>9</td>\n",
       "      <td>[CANCELLED] Jon Hopkins (DJ Set), Gee Dee, Tim...</td>\n",
       "      <td>Good Room</td>\n",
       "      <td>2020-05-22T00:00</td>\n",
       "      <td>52</td>\n",
       "    </tr>\n",
       "    <tr>\n",
       "      <td>10</td>\n",
       "      <td>Disorient presents: Country Club X: Astrodynamica</td>\n",
       "      <td>None</td>\n",
       "      <td>2020-05-23T00:00</td>\n",
       "      <td>4</td>\n",
       "    </tr>\n",
       "    <tr>\n",
       "      <td>11</td>\n",
       "      <td>Tony Humphries' Le Bain Residency</td>\n",
       "      <td>Le Bain</td>\n",
       "      <td>2020-05-23T00:00</td>\n",
       "      <td>2</td>\n",
       "    </tr>\n",
       "    <tr>\n",
       "      <td>12</td>\n",
       "      <td>Multiple Man, Figure Section</td>\n",
       "      <td>Saint Vitus</td>\n",
       "      <td>2020-05-23T00:00</td>\n",
       "      <td>2</td>\n",
       "    </tr>\n",
       "    <tr>\n",
       "      <td>13</td>\n",
       "      <td>Virtual Saturday: Breakwave and Lee Gamble</td>\n",
       "      <td>Nowadays</td>\n",
       "      <td>2020-05-23T00:00</td>\n",
       "      <td>2</td>\n",
       "    </tr>\n",
       "    <tr>\n",
       "      <td>14</td>\n",
       "      <td>NYC Memorial Day Sunday Yacht Party Cruise 2020</td>\n",
       "      <td>Skyport Marina</td>\n",
       "      <td>2020-05-24T00:00</td>\n",
       "      <td>3</td>\n",
       "    </tr>\n",
       "    <tr>\n",
       "      <td>15</td>\n",
       "      <td>Disorient presents: Country Club X: Astrodynamica</td>\n",
       "      <td>None</td>\n",
       "      <td>2020-05-24T00:00</td>\n",
       "      <td>4</td>\n",
       "    </tr>\n",
       "    <tr>\n",
       "      <td>16</td>\n",
       "      <td>Virtual Sunday: Mister Sunday Season Opener</td>\n",
       "      <td>Nowadays</td>\n",
       "      <td>2020-05-24T00:00</td>\n",
       "      <td>1</td>\n",
       "    </tr>\n",
       "  </tbody>\n",
       "</table>\n",
       "</div>"
      ],
      "text/plain": [
       "                                           Event_Name           Venue  \\\n",
       "0   Disorient presents: Country Club X: Astrodynamica            None   \n",
       "1   Virtual Thursday: A Panel with Candidates of N...        Nowadays   \n",
       "2   Virtual Thursday: Planetarium with Davis Galvi...        Nowadays   \n",
       "3   NYC MDW Kickoff Hip Hop vs Reggae® Yacht Party...  Skyport Marina   \n",
       "4   Disorient presents: Country Club X: Astrodynamica            None   \n",
       "5           Virtual Friday: Ash Lauryn and Musclecars        Nowadays   \n",
       "6                                      Eggs and Toast            None   \n",
       "7   [CANCELED] 𝐄 𝐗 𝐓 𝐄 𝐍 𝐃 𝐄 𝐃 ⇆ Speedy J // Shløm...       23 Meadow   \n",
       "8   [CANCELLED] The Bunker with Ben UFO x Joy Orbi...    Market Hotel   \n",
       "9   [CANCELLED] Jon Hopkins (DJ Set), Gee Dee, Tim...       Good Room   \n",
       "10  Disorient presents: Country Club X: Astrodynamica            None   \n",
       "11                  Tony Humphries' Le Bain Residency         Le Bain   \n",
       "12                       Multiple Man, Figure Section     Saint Vitus   \n",
       "13         Virtual Saturday: Breakwave and Lee Gamble        Nowadays   \n",
       "14    NYC Memorial Day Sunday Yacht Party Cruise 2020  Skyport Marina   \n",
       "15  Disorient presents: Country Club X: Astrodynamica            None   \n",
       "16        Virtual Sunday: Mister Sunday Season Opener        Nowadays   \n",
       "\n",
       "          Event_Date Number_of_Attendees  \n",
       "0   2020-05-21T00:00                   4  \n",
       "1   2020-05-21T00:00                   2  \n",
       "2   2020-05-21T00:00                   2  \n",
       "3   2020-05-22T00:00                   1  \n",
       "4   2020-05-22T00:00                   4  \n",
       "5   2020-05-22T00:00                   4  \n",
       "6   2020-05-22T00:00                   2  \n",
       "7   2020-05-22T00:00                 311  \n",
       "8   2020-05-22T00:00                 112  \n",
       "9   2020-05-22T00:00                  52  \n",
       "10  2020-05-23T00:00                   4  \n",
       "11  2020-05-23T00:00                   2  \n",
       "12  2020-05-23T00:00                   2  \n",
       "13  2020-05-23T00:00                   2  \n",
       "14  2020-05-24T00:00                   3  \n",
       "15  2020-05-24T00:00                   4  \n",
       "16  2020-05-24T00:00                   1  "
      ]
     },
     "execution_count": 194,
     "metadata": {},
     "output_type": "execute_result"
    }
   ],
   "source": [
    "scrape_events('https://www.residentadvisor.net/events/us/newyork/')"
   ]
  },
  {
   "cell_type": "markdown",
   "metadata": {},
   "source": [
    "## Write a Function to Retrieve the URL for the Next Page"
   ]
  },
  {
   "cell_type": "code",
   "execution_count": 202,
   "metadata": {},
   "outputs": [
    {
     "name": "stdout",
     "output_type": "stream",
     "text": [
      "50\n"
     ]
    }
   ],
   "source": [
    "page = requests.get('https://www.residentadvisor.net/events/us/newyork/')\n",
    "soup = BeautifulSoup(page.content, 'html.parser')\n",
    "soup.find('li', id='liNext').find('a').attrs['href']"
   ]
  },
  {
   "cell_type": "code",
   "execution_count": 205,
   "metadata": {},
   "outputs": [
    {
     "data": {
      "text/plain": [
       "'https://www.residentadvisor.net/events/us/newyork/week/2020-05-28'"
      ]
     },
     "execution_count": 205,
     "metadata": {},
     "output_type": "execute_result"
    }
   ],
   "source": [
    "def next_page(url):\n",
    "    page = requests.get(url)\n",
    "    soup = BeautifulSoup(page.content, 'html.parser')\n",
    "    ext = soup.find('li', id='liNext').find('a').attrs['href'][19:]\n",
    "    next_page_url = url[:50] + ext\n",
    "    return next_page_url\n",
    "\n",
    "next_page('https://www.residentadvisor.net/events/us/newyork/')"
   ]
  },
  {
   "cell_type": "markdown",
   "metadata": {},
   "source": [
    "## Scrape the Next 1000 Events for Your Area\n",
    "\n",
    "Display the data sorted by the number of attendees. If there is a tie for the number attending, sort by event date."
   ]
  },
  {
   "cell_type": "code",
   "execution_count": 213,
   "metadata": {},
   "outputs": [
    {
     "name": "stdout",
     "output_type": "stream",
     "text": [
      "https://www.residentadvisor.net/events/us/newyork/\n",
      "17\n",
      "https://www.residentadvisor.net/events/us/newyork/week/2020-05-28\n",
      "25\n",
      "https://www.residentadvisor.net/events/us/newyork/week/2020-06-04\n",
      "31\n",
      "https://www.residentadvisor.net/events/us/newyork/week/2020-06-11\n",
      "41\n",
      "https://www.residentadvisor.net/events/us/newyork/week/2020-06-18\n",
      "48\n",
      "https://www.residentadvisor.net/events/us/newyork/week/2020-06-25\n",
      "54\n",
      "https://www.residentadvisor.net/events/us/newyork/week/2020-07-02\n",
      "61\n",
      "https://www.residentadvisor.net/events/us/newyork/week/2020-07-09\n",
      "71\n",
      "https://www.residentadvisor.net/events/us/newyork/week/2020-07-16\n",
      "80\n",
      "https://www.residentadvisor.net/events/us/newyork/week/2020-07-23\n",
      "83\n",
      "https://www.residentadvisor.net/events/us/newyork/week/2020-07-30\n",
      "86\n",
      "https://www.residentadvisor.net/events/us/newyork/week/2020-08-06\n",
      "87\n",
      "https://www.residentadvisor.net/events/us/newyork/week/2020-08-13\n",
      "92\n",
      "https://www.residentadvisor.net/events/us/newyork/week/2020-08-20\n",
      "94\n",
      "https://www.residentadvisor.net/events/us/newyork/week/2020-08-27\n",
      "95\n",
      "https://www.residentadvisor.net/events/us/newyork/week/2020-09-03\n",
      "97\n",
      "https://www.residentadvisor.net/events/us/newyork/week/2020-09-10\n",
      "98\n",
      "https://www.residentadvisor.net/events/us/newyork/week/2020-09-17\n",
      "99\n",
      "https://www.residentadvisor.net/events/us/newyork/week/2020-09-24\n",
      "104\n"
     ]
    }
   ],
   "source": [
    "url = 'https://www.residentadvisor.net/events/us/newyork/'\n",
    "master_df = pd.DataFrame()\n",
    "while (len(master_df) < 100):\n",
    "    print(url)\n",
    "    master_df = master_df.append(scrape_events(url))\n",
    "    print(len(master_df))\n",
    "    url = next_page(url)"
   ]
  },
  {
   "cell_type": "code",
   "execution_count": 217,
   "metadata": {},
   "outputs": [],
   "source": [
    "master_df.reset_index(inplace=True)"
   ]
  },
  {
   "cell_type": "code",
   "execution_count": 218,
   "metadata": {},
   "outputs": [
    {
     "data": {
      "text/html": [
       "<div>\n",
       "<style scoped>\n",
       "    .dataframe tbody tr th:only-of-type {\n",
       "        vertical-align: middle;\n",
       "    }\n",
       "\n",
       "    .dataframe tbody tr th {\n",
       "        vertical-align: top;\n",
       "    }\n",
       "\n",
       "    .dataframe thead th {\n",
       "        text-align: right;\n",
       "    }\n",
       "</style>\n",
       "<table border=\"1\" class=\"dataframe\">\n",
       "  <thead>\n",
       "    <tr style=\"text-align: right;\">\n",
       "      <th></th>\n",
       "      <th>index</th>\n",
       "      <th>Event_Name</th>\n",
       "      <th>Venue</th>\n",
       "      <th>Event_Date</th>\n",
       "      <th>Number_of_Attendees</th>\n",
       "    </tr>\n",
       "  </thead>\n",
       "  <tbody>\n",
       "    <tr>\n",
       "      <td>30</td>\n",
       "      <td>5</td>\n",
       "      <td>[POSTPONED] All Day I Dream Summer Season Opening</td>\n",
       "      <td>Brooklyn Mirage</td>\n",
       "      <td>2020-06-07T00:00</td>\n",
       "      <td>437</td>\n",
       "    </tr>\n",
       "    <tr>\n",
       "      <td>7</td>\n",
       "      <td>7</td>\n",
       "      <td>[CANCELED] 𝐄 𝐗 𝐓 𝐄 𝐍 𝐃 𝐄 𝐃 ⇆ Speedy J // Shløm...</td>\n",
       "      <td>23 Meadow</td>\n",
       "      <td>2020-05-22T00:00</td>\n",
       "      <td>311</td>\n",
       "    </tr>\n",
       "    <tr>\n",
       "      <td>80</td>\n",
       "      <td>0</td>\n",
       "      <td>Can't Stop The Feeling Midnight Yacht Cruise</td>\n",
       "      <td>Harbor Lights Yacht</td>\n",
       "      <td>2020-07-24T00:00</td>\n",
       "      <td>218</td>\n",
       "    </tr>\n",
       "    <tr>\n",
       "      <td>91</td>\n",
       "      <td>4</td>\n",
       "      <td>Lane 8 - Brightest Lights Tour (Sunday) - resc...</td>\n",
       "      <td>Brooklyn Mirage</td>\n",
       "      <td>2020-08-16T00:00</td>\n",
       "      <td>137</td>\n",
       "    </tr>\n",
       "    <tr>\n",
       "      <td>102</td>\n",
       "      <td>3</td>\n",
       "      <td>Live It Up Midnight Yacht Cruise</td>\n",
       "      <td>Harbor Lights Yacht</td>\n",
       "      <td>2020-09-26T00:00</td>\n",
       "      <td>122</td>\n",
       "    </tr>\n",
       "    <tr>\n",
       "      <td>...</td>\n",
       "      <td>...</td>\n",
       "      <td>...</td>\n",
       "      <td>...</td>\n",
       "      <td>...</td>\n",
       "      <td>...</td>\n",
       "    </tr>\n",
       "    <tr>\n",
       "      <td>82</td>\n",
       "      <td>2</td>\n",
       "      <td>Elrow NYC - Rowsattacks - Postponed</td>\n",
       "      <td>Avant Gardner</td>\n",
       "      <td>2020-07-25T00:00</td>\n",
       "      <td>None</td>\n",
       "    </tr>\n",
       "    <tr>\n",
       "      <td>86</td>\n",
       "      <td>0</td>\n",
       "      <td>A Midsummer Night's Dream Midnight Yacht Cruise</td>\n",
       "      <td>Harbor Lights Yacht</td>\n",
       "      <td>2020-08-08T00:00</td>\n",
       "      <td>None</td>\n",
       "    </tr>\n",
       "    <tr>\n",
       "      <td>93</td>\n",
       "      <td>1</td>\n",
       "      <td>Summer Obsession Midnight Yacht Cruise</td>\n",
       "      <td>Harbor Lights Yacht</td>\n",
       "      <td>2020-08-21T00:00</td>\n",
       "      <td>None</td>\n",
       "    </tr>\n",
       "    <tr>\n",
       "      <td>97</td>\n",
       "      <td>0</td>\n",
       "      <td>Shake That Midnight Yacht Cruise</td>\n",
       "      <td>Harbor Lights Yacht</td>\n",
       "      <td>2020-09-12T00:00</td>\n",
       "      <td>None</td>\n",
       "    </tr>\n",
       "    <tr>\n",
       "      <td>103</td>\n",
       "      <td>4</td>\n",
       "      <td>Monolink - rescheduled</td>\n",
       "      <td>Kings Hall - Avant Gardner</td>\n",
       "      <td>2020-09-30T00:00</td>\n",
       "      <td>None</td>\n",
       "    </tr>\n",
       "  </tbody>\n",
       "</table>\n",
       "<p>104 rows × 5 columns</p>\n",
       "</div>"
      ],
      "text/plain": [
       "     index                                         Event_Name  \\\n",
       "30       5  [POSTPONED] All Day I Dream Summer Season Opening   \n",
       "7        7  [CANCELED] 𝐄 𝐗 𝐓 𝐄 𝐍 𝐃 𝐄 𝐃 ⇆ Speedy J // Shløm...   \n",
       "80       0       Can't Stop The Feeling Midnight Yacht Cruise   \n",
       "91       4  Lane 8 - Brightest Lights Tour (Sunday) - resc...   \n",
       "102      3                   Live It Up Midnight Yacht Cruise   \n",
       "..     ...                                                ...   \n",
       "82       2                Elrow NYC - Rowsattacks - Postponed   \n",
       "86       0    A Midsummer Night's Dream Midnight Yacht Cruise   \n",
       "93       1             Summer Obsession Midnight Yacht Cruise   \n",
       "97       0                   Shake That Midnight Yacht Cruise   \n",
       "103      4                             Monolink - rescheduled   \n",
       "\n",
       "                          Venue        Event_Date Number_of_Attendees  \n",
       "30              Brooklyn Mirage  2020-06-07T00:00                 437  \n",
       "7                     23 Meadow  2020-05-22T00:00                 311  \n",
       "80          Harbor Lights Yacht  2020-07-24T00:00                 218  \n",
       "91              Brooklyn Mirage  2020-08-16T00:00                 137  \n",
       "102         Harbor Lights Yacht  2020-09-26T00:00                 122  \n",
       "..                          ...               ...                 ...  \n",
       "82                Avant Gardner  2020-07-25T00:00                None  \n",
       "86          Harbor Lights Yacht  2020-08-08T00:00                None  \n",
       "93          Harbor Lights Yacht  2020-08-21T00:00                None  \n",
       "97          Harbor Lights Yacht  2020-09-12T00:00                None  \n",
       "103  Kings Hall - Avant Gardner  2020-09-30T00:00                None  \n",
       "\n",
       "[104 rows x 5 columns]"
      ]
     },
     "execution_count": 218,
     "metadata": {},
     "output_type": "execute_result"
    }
   ],
   "source": [
    "master_df.sort_values(['Number_of_Attendees'], ascending=False)"
   ]
  },
  {
   "cell_type": "markdown",
   "metadata": {},
   "source": [
    "## Summary \n",
    "\n",
    "Congratulations! In this lab, you successfully developed a pipeline to scrape a website for concert event information!"
   ]
  }
 ],
 "metadata": {
  "kernelspec": {
   "display_name": "learn-env",
   "language": "python",
   "name": "learn-env"
  },
  "language_info": {
   "codemirror_mode": {
    "name": "ipython",
    "version": 3
   },
   "file_extension": ".py",
   "mimetype": "text/x-python",
   "name": "python",
   "nbconvert_exporter": "python",
   "pygments_lexer": "ipython3",
   "version": "3.6.9"
  },
  "toc": {
   "base_numbering": 1,
   "nav_menu": {},
   "number_sections": true,
   "sideBar": true,
   "skip_h1_title": false,
   "title_cell": "Table of Contents",
   "title_sidebar": "Contents",
   "toc_cell": false,
   "toc_position": {},
   "toc_section_display": true,
   "toc_window_display": false
  },
  "varInspector": {
   "cols": {
    "lenName": 16,
    "lenType": 16,
    "lenVar": 40
   },
   "kernels_config": {
    "python": {
     "delete_cmd_postfix": "",
     "delete_cmd_prefix": "del ",
     "library": "var_list.py",
     "varRefreshCmd": "print(var_dic_list())"
    },
    "r": {
     "delete_cmd_postfix": ") ",
     "delete_cmd_prefix": "rm(",
     "library": "var_list.r",
     "varRefreshCmd": "cat(var_dic_list()) "
    }
   },
   "position": {
    "height": "144px",
    "left": "971px",
    "right": "20px",
    "top": "-1px",
    "width": "350px"
   },
   "types_to_exclude": [
    "module",
    "function",
    "builtin_function_or_method",
    "instance",
    "_Feature"
   ],
   "window_display": true
  }
 },
 "nbformat": 4,
 "nbformat_minor": 2
}
